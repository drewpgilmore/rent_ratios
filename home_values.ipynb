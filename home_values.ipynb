{
 "cells": [
  {
   "cell_type": "code",
   "execution_count": 2,
   "metadata": {},
   "outputs": [],
   "source": [
    "import pandas as pd\n",
    "import datetime as dt"
   ]
  },
  {
   "cell_type": "code",
   "execution_count": 3,
   "metadata": {},
   "outputs": [],
   "source": [
    "metro_value = 'Metro_zhvi_uc_sfrcondo_tier_0.33_0.67_sm_sa_mon.csv'\n",
    "metro_rent = 'Metro_ZORI_AllHomesPlusMultifamily_SSA.csv'\n",
    "\n",
    "zip_value = 'Zip_zhvi_uc_sfrcondo_tier_0.33_0.67_sm_sa_mon.csv'\n",
    "zip_rent = 'Zip_ZORI_AllHomesPlusMultifamily_SSA.csv'"
   ]
  },
  {
   "cell_type": "code",
   "execution_count": 52,
   "metadata": {},
   "outputs": [],
   "source": [
    "home_value_zip = pd.read_csv(zip_value)\n",
    "rent_value_zip = pd.read_csv(zip_rent)\n",
    "zip_code_list = home_value_zip[['RegionName', 'City', 'State']]"
   ]
  },
  {
   "cell_type": "code",
   "execution_count": 8,
   "metadata": {
    "tags": []
   },
   "outputs": [],
   "source": [
    "target_years = ['2014', '2015', '2016', '2017', '2018', '2019', '2020']\n",
    "home_value_by_month = []\n",
    "rent_value_by_month = []"
   ]
  },
  {
   "cell_type": "code",
   "execution_count": 9,
   "metadata": {},
   "outputs": [],
   "source": [
    "for year in target_years:\n",
    "    home_data_columns = ['RegionName']\n",
    "    rent_data_columns = ['RegionName']\n",
    "    for column in home_value_zip.columns:\n",
    "        if year in column:\n",
    "            home_data_columns.append(column)\n",
    "        else:\n",
    "            pass\n",
    "    home_df = home_value_zip[home_data_columns]\n",
    "    home_value_by_month.append(home_df)\n",
    "    for column in rent_value_zip.columns:\n",
    "        if year in column:\n",
    "            rent_data_columns.append(column)\n",
    "        else:\n",
    "            pass\n",
    "    rent_df = rent_value_zip[rent_data_columns]\n",
    "    rent_value_by_month.append(rent_df)"
   ]
  },
  {
   "cell_type": "code",
   "execution_count": 27,
   "metadata": {},
   "outputs": [],
   "source": [
    "for df in home_value_by_month:\n",
    "    df['Annual Average'] = df.mean(axis=1)\n",
    "\n",
    "for df in rent_value_by_month:\n",
    "    df['Annual Average'] = df.mean(axis=1)"
   ]
  },
  {
   "cell_type": "code",
   "execution_count": 31,
   "metadata": {
    "tags": []
   },
   "outputs": [],
   "source": [
    "home_value_by_year = []\n",
    "rent_value_by_year = []\n",
    "\n",
    "for df in home_value_by_month:\n",
    "    annual_summary = df[['RegionName', 'Annual Average']]\n",
    "    annual_summary = pd.merge(annual_summary, zip_code_list, on='RegionName')\n",
    "    annual_summary = annual_summary[['State', 'City', 'RegionName', 'Annual Average']]\n",
    "    annual_summary = annual_summary.rename(columns={'RegionName': 'ZIP Code', 'Annual Average': 'Home Value'})\n",
    "    home_value_by_year.append(annual_summary)\n",
    "\n",
    "for df in rent_value_by_month:\n",
    "    annual_summary = df[['RegionName', 'Annual Average']]\n",
    "    annual_summary = pd.merge(annual_summary, zip_code_list, on='RegionName')\n",
    "    annual_summary = annual_summary[['State', 'City', 'RegionName', 'Annual Average']]\n",
    "    annual_summary = annual_summary.rename(columns={'RegionName': 'ZIP Code', 'Annual Average': 'Avg Rent'})\n",
    "    rent_value_by_year.append(annual_summary)"
   ]
  },
  {
   "cell_type": "code",
   "execution_count": 59,
   "metadata": {
    "tags": []
   },
   "outputs": [],
   "source": [
    "combined_by_zip = []\n",
    "combined_by_city = []\n",
    "combined_by_state = []\n",
    "\n",
    "for i in range(len(home_value_by_year)):\n",
    "    combined = pd.merge(home_value_by_year[i], rent_value_by_year[i], on='ZIP Code', how='inner')\n",
    "    combined['Ratio'] = combined['Avg Rent']/combined['Home Value']\n",
    "    combined = combined[[\n",
    "        'State_x',\n",
    "        'City_x',\n",
    "        'ZIP Code',\n",
    "        'Home Value',\n",
    "        'Avg Rent',\n",
    "        'Ratio'\n",
    "    ]]\n",
    "    combined = combined.rename(columns={\n",
    "        'State_x': 'State',\n",
    "        'City_x': 'City',\n",
    "    })\n",
    "    combined_by_zip.append(combined)\n",
    "    combined_city = combined[['State', 'City', 'Home Value', 'Avg Rent', 'Ratio']].groupby(['State', 'City']).mean().reset_index()\n",
    "    combined_by_city.append(combined_city)\n",
    "    combined_state = combined[['State', 'Home Value', 'Avg Rent', 'Ratio']].groupby('State').mean().reset_index()\n",
    "    combined_by_state.append(combined_state)"
   ]
  },
  {
   "cell_type": "code",
   "execution_count": 67,
   "metadata": {
    "tags": []
   },
   "outputs": [
    {
     "output_type": "stream",
     "name": "stdout",
     "text": "7\n"
    }
   ],
   "source": [
    "print(len(combined_by_state))"
   ]
  },
  {
   "cell_type": "code",
   "execution_count": 71,
   "metadata": {},
   "outputs": [],
   "source": [
    "yearly_ratios_zip = {\n",
    "    'ZIP Code': combined_by_zip[0]['ZIP Code']\n",
    "}\n",
    "yearly_ratios_city = {\n",
    "    'City': combined_by_city[0]['City']\n",
    "}\n",
    "yearly_ratios_state = pd.DataFrame({\n",
    "    'State': combined_by_state[0]['State']\n",
    "})"
   ]
  },
  {
   "cell_type": "code",
   "execution_count": 74,
   "metadata": {},
   "outputs": [],
   "source": [
    "for i in range(len(combined_by_state)):\n",
    "    yearly_ratios_state[f'New column {i}'] = combined_by_state[i]['Ratio']*100"
   ]
  },
  {
   "cell_type": "code",
   "execution_count": 75,
   "metadata": {
    "tags": []
   },
   "outputs": [
    {
     "output_type": "stream",
     "name": "stdout",
     "text": "State  New column 0  New column 1  New column 2  New column 3  \\\n0     AL      3.919653      2.660687      2.617824      2.402707   \n1     AR     16.924035     11.935846     14.635136     11.149871   \n2     AZ      4.349514      4.032043      3.732092      3.497790   \n3     CA      2.832775      2.268166      2.027819      1.818087   \n4     CO      4.007253      2.974326      2.523895      2.293865   \n5     CT      2.020598      0.995277      0.908034      0.876561   \n6     DC      1.163809      0.841405      0.752543      0.704020   \n7     DE      2.362287      2.021664      1.734852      1.627744   \n8     FL      2.751715      2.609176      2.264490      2.035165   \n9     GA      2.642904      2.385459      2.235084      2.017747   \n10    HI      2.422482      1.813118      1.685042      1.567619   \n11    IA      4.428873      3.754501      3.272560      3.054173   \n12    ID      4.794926      4.030529      3.732955      3.409229   \n13    IL      4.872494      4.112543      3.446000      3.174935   \n14    IN      4.908617      4.046886      3.701881      3.432963   \n15    KS      9.435974      6.648656      5.499708      5.028814   \n16    KY      6.699864      5.102084      4.534621      3.931617   \n17    LA      5.762641      4.224545      3.283123      2.885556   \n18    MA      1.604098      0.447081      0.436583      0.422097   \n19    MD      1.722316      1.504887      1.396147      1.320566   \n20    MI      7.259881      6.287206      5.939575      5.674840   \n21    MN      3.457421      2.858241      2.686992      2.410408   \n22    MO      8.589836      6.755941      6.035734      5.399745   \n23    MS      4.455290      3.785634      3.660221      3.460511   \n24    NC      2.096314      1.915853      1.813757      1.659741   \n25    NE      6.719080      5.713437      4.992804      4.177659   \n26    NH      0.678546      0.714996      0.671651      0.631379   \n27    NJ      0.875369      0.803888      0.778053      0.754788   \n28    NM      5.245043      4.841463      4.606883      4.466556   \n29    NV      5.008848      5.666671      5.298604      4.249465   \n30    NY      1.068564      0.836687      0.763554      0.719668   \n31    OH      8.598604      6.104703      5.072801      4.145733   \n32    OK      7.153176      5.418667      4.898665      4.613924   \n33    OR      3.858105      3.090352      2.698220      2.348239   \n34    PA      2.411928      1.998505      1.872909      1.727841   \n35    RI      0.717926      0.695185      0.672313      0.643358   \n36    SC      2.843327      2.421028      2.204225      1.985696   \n37    TN      4.373603      3.716571      3.235311      2.877215   \n38    TX      5.464493      4.294364      3.759888      3.386717   \n39    UT      7.184258      4.511560      3.652870      3.204168   \n40    VA      1.448771      1.295812      1.252485      1.205601   \n41    WA      4.071364      3.280012      2.841580      2.461360   \n42    WI     11.222285      6.253334      4.836923      4.024745   \n\n    New column 4  New column 5  New column 6  \n0       2.346711      2.166871      3.516200  \n1      10.057683      9.849016     15.988183  \n2       3.319080      3.150228      5.345227  \n3       1.684976      1.650139      2.839030  \n4       2.124544      2.053112      3.542309  \n5       0.854920      0.847710      1.081085  \n6       0.676890      0.657016      0.924926  \n7       1.587723      1.573780      2.455514  \n8       2.006909      1.824078      2.990354  \n9       1.833988      1.746521      2.730842  \n10      1.505291      1.514896      2.729414  \n11      2.729321      2.622737      4.598525  \n12      3.202984      2.790617      4.558211  \n13      2.974592      2.879240      4.998281  \n14      3.170527      2.956819      4.826228  \n15      4.666581      4.575792      7.626034  \n16      3.523956      3.276804      5.331877  \n17      2.804818      2.751725      4.818601  \n18      0.408734      0.410666      0.439408  \n19      1.272391      1.254029      1.928828  \n20      5.112613      4.689020      7.979190  \n21      2.252678      2.196439      3.527671  \n22      4.764957      4.557164      7.793106  \n23      3.274569      3.055248      4.936224  \n24      1.565175      1.484832      2.319562  \n25      3.928278      3.766952      6.334396  \n26      0.589824      0.581834      0.659245  \n27      0.723082      0.714207      0.912365  \n28      4.317033      4.120393      7.127638  \n29      3.394532      3.288473      5.758766  \n30      0.687801      0.663348      0.857098  \n31      3.854270      3.453268      5.690044  \n32      4.444002      4.296027      7.334238  \n33      2.224619      2.182276      3.936821  \n34      1.573822      1.502135      2.288297  \n35      0.609508      0.593805      0.663316  \n36      1.879937      1.786054      2.867384  \n37      2.669104      2.446708      4.150554  \n38      3.213849      3.061921      5.361374  \n39      2.905093      2.746389      4.511247  \n40      1.170273      1.132732      1.721048  \n41      2.168744      2.098323      3.588814  \n42      3.575822      3.340825      5.648164  \n"
    }
   ],
   "source": [
    "print(yearly_ratios_state)"
   ]
  },
  {
   "cell_type": "code",
   "execution_count": null,
   "metadata": {},
   "outputs": [],
   "source": []
  }
 ],
 "metadata": {
  "language_info": {
   "codemirror_mode": {
    "name": "ipython",
    "version": 3
   },
   "file_extension": ".py",
   "mimetype": "text/x-python",
   "name": "python",
   "nbconvert_exporter": "python",
   "pygments_lexer": "ipython3",
   "version": 3
  },
  "orig_nbformat": 2,
  "kernelspec": {
   "name": "python_defaultSpec_1596517181428",
   "display_name": "Python 3.6.10 64-bit ('PythonData': conda)"
  }
 },
 "nbformat": 4,
 "nbformat_minor": 2
}